{
  "nbformat": 4,
  "nbformat_minor": 0,
  "metadata": {
    "colab": {
      "name": "GeneticAlgoVal.ipynb",
      "provenance": [],
      "collapsed_sections": [],
      "include_colab_link": true
    },
    "kernelspec": {
      "display_name": "Python 3",
      "name": "python3"
    },
    "language_info": {
      "name": "python"
    },
    "widgets": {
      "application/vnd.jupyter.widget-state+json": {
        "48765f72634e4a6bad4e55fb8d5cee7e": {
          "model_module": "@jupyter-widgets/controls",
          "model_name": "HBoxModel",
          "model_module_version": "1.5.0",
          "state": {
            "_view_name": "HBoxView",
            "_dom_classes": [],
            "_model_name": "HBoxModel",
            "_view_module": "@jupyter-widgets/controls",
            "_model_module_version": "1.5.0",
            "_view_count": null,
            "_view_module_version": "1.5.0",
            "box_style": "",
            "layout": "IPY_MODEL_89c86deb7074440d80b8e66996ed2988",
            "_model_module": "@jupyter-widgets/controls",
            "children": [
              "IPY_MODEL_7c4f165004914ccdbc7ca41259e5bdff",
              "IPY_MODEL_9def6e7a18f04845a71e4c0ab32c403b",
              "IPY_MODEL_5e2bbbf701ae450abf514fbdbdd38b09"
            ]
          }
        },
        "89c86deb7074440d80b8e66996ed2988": {
          "model_module": "@jupyter-widgets/base",
          "model_name": "LayoutModel",
          "model_module_version": "1.2.0",
          "state": {
            "_view_name": "LayoutView",
            "grid_template_rows": null,
            "right": null,
            "justify_content": null,
            "_view_module": "@jupyter-widgets/base",
            "overflow": null,
            "_model_module_version": "1.2.0",
            "_view_count": null,
            "flex_flow": null,
            "width": null,
            "min_width": null,
            "border": null,
            "align_items": null,
            "bottom": null,
            "_model_module": "@jupyter-widgets/base",
            "top": null,
            "grid_column": null,
            "overflow_y": null,
            "overflow_x": null,
            "grid_auto_flow": null,
            "grid_area": null,
            "grid_template_columns": null,
            "flex": null,
            "_model_name": "LayoutModel",
            "justify_items": null,
            "grid_row": null,
            "max_height": null,
            "align_content": null,
            "visibility": null,
            "align_self": null,
            "height": null,
            "min_height": null,
            "padding": null,
            "grid_auto_rows": null,
            "grid_gap": null,
            "max_width": null,
            "order": null,
            "_view_module_version": "1.2.0",
            "grid_template_areas": null,
            "object_position": null,
            "object_fit": null,
            "grid_auto_columns": null,
            "margin": null,
            "display": null,
            "left": null
          }
        },
        "7c4f165004914ccdbc7ca41259e5bdff": {
          "model_module": "@jupyter-widgets/controls",
          "model_name": "HTMLModel",
          "model_module_version": "1.5.0",
          "state": {
            "_view_name": "HTMLView",
            "style": "IPY_MODEL_9d3f8bf152cd43a8a32b8d2aa91eaf74",
            "_dom_classes": [],
            "description": "",
            "_model_name": "HTMLModel",
            "placeholder": "​",
            "_view_module": "@jupyter-widgets/controls",
            "_model_module_version": "1.5.0",
            "value": "100%",
            "_view_count": null,
            "_view_module_version": "1.5.0",
            "description_tooltip": null,
            "_model_module": "@jupyter-widgets/controls",
            "layout": "IPY_MODEL_043db6fa303341bbb7205e666bec0564"
          }
        },
        "9def6e7a18f04845a71e4c0ab32c403b": {
          "model_module": "@jupyter-widgets/controls",
          "model_name": "FloatProgressModel",
          "model_module_version": "1.5.0",
          "state": {
            "_view_name": "ProgressView",
            "style": "IPY_MODEL_ca2c3eacdae2416a9f72eb9775a0fcdd",
            "_dom_classes": [],
            "description": "",
            "_model_name": "FloatProgressModel",
            "bar_style": "success",
            "max": 14,
            "_view_module": "@jupyter-widgets/controls",
            "_model_module_version": "1.5.0",
            "value": 14,
            "_view_count": null,
            "_view_module_version": "1.5.0",
            "orientation": "horizontal",
            "min": 0,
            "description_tooltip": null,
            "_model_module": "@jupyter-widgets/controls",
            "layout": "IPY_MODEL_a374060f86994b2cab34d62ac6c2f449"
          }
        },
        "5e2bbbf701ae450abf514fbdbdd38b09": {
          "model_module": "@jupyter-widgets/controls",
          "model_name": "HTMLModel",
          "model_module_version": "1.5.0",
          "state": {
            "_view_name": "HTMLView",
            "style": "IPY_MODEL_57a0f620989c4cc5b333190fcfbac717",
            "_dom_classes": [],
            "description": "",
            "_model_name": "HTMLModel",
            "placeholder": "​",
            "_view_module": "@jupyter-widgets/controls",
            "_model_module_version": "1.5.0",
            "value": " 14/14 [09:19&lt;00:00, 39.99s/it]",
            "_view_count": null,
            "_view_module_version": "1.5.0",
            "description_tooltip": null,
            "_model_module": "@jupyter-widgets/controls",
            "layout": "IPY_MODEL_a569b3a1d2b34222acbc640059f18b12"
          }
        },
        "9d3f8bf152cd43a8a32b8d2aa91eaf74": {
          "model_module": "@jupyter-widgets/controls",
          "model_name": "DescriptionStyleModel",
          "model_module_version": "1.5.0",
          "state": {
            "_view_name": "StyleView",
            "_model_name": "DescriptionStyleModel",
            "description_width": "",
            "_view_module": "@jupyter-widgets/base",
            "_model_module_version": "1.5.0",
            "_view_count": null,
            "_view_module_version": "1.2.0",
            "_model_module": "@jupyter-widgets/controls"
          }
        },
        "043db6fa303341bbb7205e666bec0564": {
          "model_module": "@jupyter-widgets/base",
          "model_name": "LayoutModel",
          "model_module_version": "1.2.0",
          "state": {
            "_view_name": "LayoutView",
            "grid_template_rows": null,
            "right": null,
            "justify_content": null,
            "_view_module": "@jupyter-widgets/base",
            "overflow": null,
            "_model_module_version": "1.2.0",
            "_view_count": null,
            "flex_flow": null,
            "width": null,
            "min_width": null,
            "border": null,
            "align_items": null,
            "bottom": null,
            "_model_module": "@jupyter-widgets/base",
            "top": null,
            "grid_column": null,
            "overflow_y": null,
            "overflow_x": null,
            "grid_auto_flow": null,
            "grid_area": null,
            "grid_template_columns": null,
            "flex": null,
            "_model_name": "LayoutModel",
            "justify_items": null,
            "grid_row": null,
            "max_height": null,
            "align_content": null,
            "visibility": null,
            "align_self": null,
            "height": null,
            "min_height": null,
            "padding": null,
            "grid_auto_rows": null,
            "grid_gap": null,
            "max_width": null,
            "order": null,
            "_view_module_version": "1.2.0",
            "grid_template_areas": null,
            "object_position": null,
            "object_fit": null,
            "grid_auto_columns": null,
            "margin": null,
            "display": null,
            "left": null
          }
        },
        "ca2c3eacdae2416a9f72eb9775a0fcdd": {
          "model_module": "@jupyter-widgets/controls",
          "model_name": "ProgressStyleModel",
          "model_module_version": "1.5.0",
          "state": {
            "_view_name": "StyleView",
            "_model_name": "ProgressStyleModel",
            "description_width": "",
            "_view_module": "@jupyter-widgets/base",
            "_model_module_version": "1.5.0",
            "_view_count": null,
            "_view_module_version": "1.2.0",
            "bar_color": null,
            "_model_module": "@jupyter-widgets/controls"
          }
        },
        "a374060f86994b2cab34d62ac6c2f449": {
          "model_module": "@jupyter-widgets/base",
          "model_name": "LayoutModel",
          "model_module_version": "1.2.0",
          "state": {
            "_view_name": "LayoutView",
            "grid_template_rows": null,
            "right": null,
            "justify_content": null,
            "_view_module": "@jupyter-widgets/base",
            "overflow": null,
            "_model_module_version": "1.2.0",
            "_view_count": null,
            "flex_flow": null,
            "width": null,
            "min_width": null,
            "border": null,
            "align_items": null,
            "bottom": null,
            "_model_module": "@jupyter-widgets/base",
            "top": null,
            "grid_column": null,
            "overflow_y": null,
            "overflow_x": null,
            "grid_auto_flow": null,
            "grid_area": null,
            "grid_template_columns": null,
            "flex": null,
            "_model_name": "LayoutModel",
            "justify_items": null,
            "grid_row": null,
            "max_height": null,
            "align_content": null,
            "visibility": null,
            "align_self": null,
            "height": null,
            "min_height": null,
            "padding": null,
            "grid_auto_rows": null,
            "grid_gap": null,
            "max_width": null,
            "order": null,
            "_view_module_version": "1.2.0",
            "grid_template_areas": null,
            "object_position": null,
            "object_fit": null,
            "grid_auto_columns": null,
            "margin": null,
            "display": null,
            "left": null
          }
        },
        "57a0f620989c4cc5b333190fcfbac717": {
          "model_module": "@jupyter-widgets/controls",
          "model_name": "DescriptionStyleModel",
          "model_module_version": "1.5.0",
          "state": {
            "_view_name": "StyleView",
            "_model_name": "DescriptionStyleModel",
            "description_width": "",
            "_view_module": "@jupyter-widgets/base",
            "_model_module_version": "1.5.0",
            "_view_count": null,
            "_view_module_version": "1.2.0",
            "_model_module": "@jupyter-widgets/controls"
          }
        },
        "a569b3a1d2b34222acbc640059f18b12": {
          "model_module": "@jupyter-widgets/base",
          "model_name": "LayoutModel",
          "model_module_version": "1.2.0",
          "state": {
            "_view_name": "LayoutView",
            "grid_template_rows": null,
            "right": null,
            "justify_content": null,
            "_view_module": "@jupyter-widgets/base",
            "overflow": null,
            "_model_module_version": "1.2.0",
            "_view_count": null,
            "flex_flow": null,
            "width": null,
            "min_width": null,
            "border": null,
            "align_items": null,
            "bottom": null,
            "_model_module": "@jupyter-widgets/base",
            "top": null,
            "grid_column": null,
            "overflow_y": null,
            "overflow_x": null,
            "grid_auto_flow": null,
            "grid_area": null,
            "grid_template_columns": null,
            "flex": null,
            "_model_name": "LayoutModel",
            "justify_items": null,
            "grid_row": null,
            "max_height": null,
            "align_content": null,
            "visibility": null,
            "align_self": null,
            "height": null,
            "min_height": null,
            "padding": null,
            "grid_auto_rows": null,
            "grid_gap": null,
            "max_width": null,
            "order": null,
            "_view_module_version": "1.2.0",
            "grid_template_areas": null,
            "object_position": null,
            "object_fit": null,
            "grid_auto_columns": null,
            "margin": null,
            "display": null,
            "left": null
          }
        },
        "1e26a68736f44fa480b92113b49a54ed": {
          "model_module": "@jupyter-widgets/controls",
          "model_name": "HBoxModel",
          "model_module_version": "1.5.0",
          "state": {
            "_view_name": "HBoxView",
            "_dom_classes": [],
            "_model_name": "HBoxModel",
            "_view_module": "@jupyter-widgets/controls",
            "_model_module_version": "1.5.0",
            "_view_count": null,
            "_view_module_version": "1.5.0",
            "box_style": "",
            "layout": "IPY_MODEL_63ae57320d09483fba20b0e0c851f45a",
            "_model_module": "@jupyter-widgets/controls",
            "children": [
              "IPY_MODEL_25c0b1961e9d4c6b91d99b74601b1013",
              "IPY_MODEL_cece05df106e41618fee540e384d2d19",
              "IPY_MODEL_7de42372a3514ff289eb52985e74b630"
            ]
          }
        },
        "63ae57320d09483fba20b0e0c851f45a": {
          "model_module": "@jupyter-widgets/base",
          "model_name": "LayoutModel",
          "model_module_version": "1.2.0",
          "state": {
            "_view_name": "LayoutView",
            "grid_template_rows": null,
            "right": null,
            "justify_content": null,
            "_view_module": "@jupyter-widgets/base",
            "overflow": null,
            "_model_module_version": "1.2.0",
            "_view_count": null,
            "flex_flow": null,
            "width": null,
            "min_width": null,
            "border": null,
            "align_items": null,
            "bottom": null,
            "_model_module": "@jupyter-widgets/base",
            "top": null,
            "grid_column": null,
            "overflow_y": null,
            "overflow_x": null,
            "grid_auto_flow": null,
            "grid_area": null,
            "grid_template_columns": null,
            "flex": null,
            "_model_name": "LayoutModel",
            "justify_items": null,
            "grid_row": null,
            "max_height": null,
            "align_content": null,
            "visibility": null,
            "align_self": null,
            "height": null,
            "min_height": null,
            "padding": null,
            "grid_auto_rows": null,
            "grid_gap": null,
            "max_width": null,
            "order": null,
            "_view_module_version": "1.2.0",
            "grid_template_areas": null,
            "object_position": null,
            "object_fit": null,
            "grid_auto_columns": null,
            "margin": null,
            "display": null,
            "left": null
          }
        },
        "25c0b1961e9d4c6b91d99b74601b1013": {
          "model_module": "@jupyter-widgets/controls",
          "model_name": "HTMLModel",
          "model_module_version": "1.5.0",
          "state": {
            "_view_name": "HTMLView",
            "style": "IPY_MODEL_a2d9eaa3c5bc4f5ab790d5bd4f85b4fc",
            "_dom_classes": [],
            "description": "",
            "_model_name": "HTMLModel",
            "placeholder": "​",
            "_view_module": "@jupyter-widgets/controls",
            "_model_module_version": "1.5.0",
            "value": "100%",
            "_view_count": null,
            "_view_module_version": "1.5.0",
            "description_tooltip": null,
            "_model_module": "@jupyter-widgets/controls",
            "layout": "IPY_MODEL_176339ef3fd74691a534bacf4a870cf5"
          }
        },
        "cece05df106e41618fee540e384d2d19": {
          "model_module": "@jupyter-widgets/controls",
          "model_name": "FloatProgressModel",
          "model_module_version": "1.5.0",
          "state": {
            "_view_name": "ProgressView",
            "style": "IPY_MODEL_e3f462fcc4b147e49b718b2b549649ba",
            "_dom_classes": [],
            "description": "",
            "_model_name": "FloatProgressModel",
            "bar_style": "success",
            "max": 14,
            "_view_module": "@jupyter-widgets/controls",
            "_model_module_version": "1.5.0",
            "value": 14,
            "_view_count": null,
            "_view_module_version": "1.5.0",
            "orientation": "horizontal",
            "min": 0,
            "description_tooltip": null,
            "_model_module": "@jupyter-widgets/controls",
            "layout": "IPY_MODEL_56fbbf7bfd6e45e798fa1c300dd5504d"
          }
        },
        "7de42372a3514ff289eb52985e74b630": {
          "model_module": "@jupyter-widgets/controls",
          "model_name": "HTMLModel",
          "model_module_version": "1.5.0",
          "state": {
            "_view_name": "HTMLView",
            "style": "IPY_MODEL_dd49a88242b54d038145a51a08d7e5ad",
            "_dom_classes": [],
            "description": "",
            "_model_name": "HTMLModel",
            "placeholder": "​",
            "_view_module": "@jupyter-widgets/controls",
            "_model_module_version": "1.5.0",
            "value": " 14/14 [08:51&lt;00:00, 38.02s/it]",
            "_view_count": null,
            "_view_module_version": "1.5.0",
            "description_tooltip": null,
            "_model_module": "@jupyter-widgets/controls",
            "layout": "IPY_MODEL_e502ae3c2d9540afa280b38d43fbada3"
          }
        },
        "a2d9eaa3c5bc4f5ab790d5bd4f85b4fc": {
          "model_module": "@jupyter-widgets/controls",
          "model_name": "DescriptionStyleModel",
          "model_module_version": "1.5.0",
          "state": {
            "_view_name": "StyleView",
            "_model_name": "DescriptionStyleModel",
            "description_width": "",
            "_view_module": "@jupyter-widgets/base",
            "_model_module_version": "1.5.0",
            "_view_count": null,
            "_view_module_version": "1.2.0",
            "_model_module": "@jupyter-widgets/controls"
          }
        },
        "176339ef3fd74691a534bacf4a870cf5": {
          "model_module": "@jupyter-widgets/base",
          "model_name": "LayoutModel",
          "model_module_version": "1.2.0",
          "state": {
            "_view_name": "LayoutView",
            "grid_template_rows": null,
            "right": null,
            "justify_content": null,
            "_view_module": "@jupyter-widgets/base",
            "overflow": null,
            "_model_module_version": "1.2.0",
            "_view_count": null,
            "flex_flow": null,
            "width": null,
            "min_width": null,
            "border": null,
            "align_items": null,
            "bottom": null,
            "_model_module": "@jupyter-widgets/base",
            "top": null,
            "grid_column": null,
            "overflow_y": null,
            "overflow_x": null,
            "grid_auto_flow": null,
            "grid_area": null,
            "grid_template_columns": null,
            "flex": null,
            "_model_name": "LayoutModel",
            "justify_items": null,
            "grid_row": null,
            "max_height": null,
            "align_content": null,
            "visibility": null,
            "align_self": null,
            "height": null,
            "min_height": null,
            "padding": null,
            "grid_auto_rows": null,
            "grid_gap": null,
            "max_width": null,
            "order": null,
            "_view_module_version": "1.2.0",
            "grid_template_areas": null,
            "object_position": null,
            "object_fit": null,
            "grid_auto_columns": null,
            "margin": null,
            "display": null,
            "left": null
          }
        },
        "e3f462fcc4b147e49b718b2b549649ba": {
          "model_module": "@jupyter-widgets/controls",
          "model_name": "ProgressStyleModel",
          "model_module_version": "1.5.0",
          "state": {
            "_view_name": "StyleView",
            "_model_name": "ProgressStyleModel",
            "description_width": "",
            "_view_module": "@jupyter-widgets/base",
            "_model_module_version": "1.5.0",
            "_view_count": null,
            "_view_module_version": "1.2.0",
            "bar_color": null,
            "_model_module": "@jupyter-widgets/controls"
          }
        },
        "56fbbf7bfd6e45e798fa1c300dd5504d": {
          "model_module": "@jupyter-widgets/base",
          "model_name": "LayoutModel",
          "model_module_version": "1.2.0",
          "state": {
            "_view_name": "LayoutView",
            "grid_template_rows": null,
            "right": null,
            "justify_content": null,
            "_view_module": "@jupyter-widgets/base",
            "overflow": null,
            "_model_module_version": "1.2.0",
            "_view_count": null,
            "flex_flow": null,
            "width": null,
            "min_width": null,
            "border": null,
            "align_items": null,
            "bottom": null,
            "_model_module": "@jupyter-widgets/base",
            "top": null,
            "grid_column": null,
            "overflow_y": null,
            "overflow_x": null,
            "grid_auto_flow": null,
            "grid_area": null,
            "grid_template_columns": null,
            "flex": null,
            "_model_name": "LayoutModel",
            "justify_items": null,
            "grid_row": null,
            "max_height": null,
            "align_content": null,
            "visibility": null,
            "align_self": null,
            "height": null,
            "min_height": null,
            "padding": null,
            "grid_auto_rows": null,
            "grid_gap": null,
            "max_width": null,
            "order": null,
            "_view_module_version": "1.2.0",
            "grid_template_areas": null,
            "object_position": null,
            "object_fit": null,
            "grid_auto_columns": null,
            "margin": null,
            "display": null,
            "left": null
          }
        },
        "dd49a88242b54d038145a51a08d7e5ad": {
          "model_module": "@jupyter-widgets/controls",
          "model_name": "DescriptionStyleModel",
          "model_module_version": "1.5.0",
          "state": {
            "_view_name": "StyleView",
            "_model_name": "DescriptionStyleModel",
            "description_width": "",
            "_view_module": "@jupyter-widgets/base",
            "_model_module_version": "1.5.0",
            "_view_count": null,
            "_view_module_version": "1.2.0",
            "_model_module": "@jupyter-widgets/controls"
          }
        },
        "e502ae3c2d9540afa280b38d43fbada3": {
          "model_module": "@jupyter-widgets/base",
          "model_name": "LayoutModel",
          "model_module_version": "1.2.0",
          "state": {
            "_view_name": "LayoutView",
            "grid_template_rows": null,
            "right": null,
            "justify_content": null,
            "_view_module": "@jupyter-widgets/base",
            "overflow": null,
            "_model_module_version": "1.2.0",
            "_view_count": null,
            "flex_flow": null,
            "width": null,
            "min_width": null,
            "border": null,
            "align_items": null,
            "bottom": null,
            "_model_module": "@jupyter-widgets/base",
            "top": null,
            "grid_column": null,
            "overflow_y": null,
            "overflow_x": null,
            "grid_auto_flow": null,
            "grid_area": null,
            "grid_template_columns": null,
            "flex": null,
            "_model_name": "LayoutModel",
            "justify_items": null,
            "grid_row": null,
            "max_height": null,
            "align_content": null,
            "visibility": null,
            "align_self": null,
            "height": null,
            "min_height": null,
            "padding": null,
            "grid_auto_rows": null,
            "grid_gap": null,
            "max_width": null,
            "order": null,
            "_view_module_version": "1.2.0",
            "grid_template_areas": null,
            "object_position": null,
            "object_fit": null,
            "grid_auto_columns": null,
            "margin": null,
            "display": null,
            "left": null
          }
        },
        "ed441c860f614db1946d683eb8b931e7": {
          "model_module": "@jupyter-widgets/controls",
          "model_name": "HBoxModel",
          "model_module_version": "1.5.0",
          "state": {
            "_view_name": "HBoxView",
            "_dom_classes": [],
            "_model_name": "HBoxModel",
            "_view_module": "@jupyter-widgets/controls",
            "_model_module_version": "1.5.0",
            "_view_count": null,
            "_view_module_version": "1.5.0",
            "box_style": "",
            "layout": "IPY_MODEL_0402253a434e49be9d3665ee6d7729f0",
            "_model_module": "@jupyter-widgets/controls",
            "children": [
              "IPY_MODEL_e7b86eb179f3400882f79242e3ed4876",
              "IPY_MODEL_442276cf7260420196710d6e5134b338",
              "IPY_MODEL_afd29bc068364a67a497c960b5fcad07"
            ]
          }
        },
        "0402253a434e49be9d3665ee6d7729f0": {
          "model_module": "@jupyter-widgets/base",
          "model_name": "LayoutModel",
          "model_module_version": "1.2.0",
          "state": {
            "_view_name": "LayoutView",
            "grid_template_rows": null,
            "right": null,
            "justify_content": null,
            "_view_module": "@jupyter-widgets/base",
            "overflow": null,
            "_model_module_version": "1.2.0",
            "_view_count": null,
            "flex_flow": null,
            "width": null,
            "min_width": null,
            "border": null,
            "align_items": null,
            "bottom": null,
            "_model_module": "@jupyter-widgets/base",
            "top": null,
            "grid_column": null,
            "overflow_y": null,
            "overflow_x": null,
            "grid_auto_flow": null,
            "grid_area": null,
            "grid_template_columns": null,
            "flex": null,
            "_model_name": "LayoutModel",
            "justify_items": null,
            "grid_row": null,
            "max_height": null,
            "align_content": null,
            "visibility": null,
            "align_self": null,
            "height": null,
            "min_height": null,
            "padding": null,
            "grid_auto_rows": null,
            "grid_gap": null,
            "max_width": null,
            "order": null,
            "_view_module_version": "1.2.0",
            "grid_template_areas": null,
            "object_position": null,
            "object_fit": null,
            "grid_auto_columns": null,
            "margin": null,
            "display": null,
            "left": null
          }
        },
        "e7b86eb179f3400882f79242e3ed4876": {
          "model_module": "@jupyter-widgets/controls",
          "model_name": "HTMLModel",
          "model_module_version": "1.5.0",
          "state": {
            "_view_name": "HTMLView",
            "style": "IPY_MODEL_86aa7780ae63493fa7c7be08e0da33e4",
            "_dom_classes": [],
            "description": "",
            "_model_name": "HTMLModel",
            "placeholder": "​",
            "_view_module": "@jupyter-widgets/controls",
            "_model_module_version": "1.5.0",
            "value": "100%",
            "_view_count": null,
            "_view_module_version": "1.5.0",
            "description_tooltip": null,
            "_model_module": "@jupyter-widgets/controls",
            "layout": "IPY_MODEL_16ee56c9e7d24907be47b7f59b084b0e"
          }
        },
        "442276cf7260420196710d6e5134b338": {
          "model_module": "@jupyter-widgets/controls",
          "model_name": "FloatProgressModel",
          "model_module_version": "1.5.0",
          "state": {
            "_view_name": "ProgressView",
            "style": "IPY_MODEL_d0429a40e608415092b31633055d6c4e",
            "_dom_classes": [],
            "description": "",
            "_model_name": "FloatProgressModel",
            "bar_style": "success",
            "max": 29,
            "_view_module": "@jupyter-widgets/controls",
            "_model_module_version": "1.5.0",
            "value": 29,
            "_view_count": null,
            "_view_module_version": "1.5.0",
            "orientation": "horizontal",
            "min": 0,
            "description_tooltip": null,
            "_model_module": "@jupyter-widgets/controls",
            "layout": "IPY_MODEL_762f2aaf99f048a68a94e67050f8dddd"
          }
        },
        "afd29bc068364a67a497c960b5fcad07": {
          "model_module": "@jupyter-widgets/controls",
          "model_name": "HTMLModel",
          "model_module_version": "1.5.0",
          "state": {
            "_view_name": "HTMLView",
            "style": "IPY_MODEL_121e55940abe4041bc8abb8bea9855a5",
            "_dom_classes": [],
            "description": "",
            "_model_name": "HTMLModel",
            "placeholder": "​",
            "_view_module": "@jupyter-widgets/controls",
            "_model_module_version": "1.5.0",
            "value": " 29/29 [21:30&lt;00:00, 44.45s/it]",
            "_view_count": null,
            "_view_module_version": "1.5.0",
            "description_tooltip": null,
            "_model_module": "@jupyter-widgets/controls",
            "layout": "IPY_MODEL_f1262b53999e49f4ab75324c26b9b2e3"
          }
        },
        "86aa7780ae63493fa7c7be08e0da33e4": {
          "model_module": "@jupyter-widgets/controls",
          "model_name": "DescriptionStyleModel",
          "model_module_version": "1.5.0",
          "state": {
            "_view_name": "StyleView",
            "_model_name": "DescriptionStyleModel",
            "description_width": "",
            "_view_module": "@jupyter-widgets/base",
            "_model_module_version": "1.5.0",
            "_view_count": null,
            "_view_module_version": "1.2.0",
            "_model_module": "@jupyter-widgets/controls"
          }
        },
        "16ee56c9e7d24907be47b7f59b084b0e": {
          "model_module": "@jupyter-widgets/base",
          "model_name": "LayoutModel",
          "model_module_version": "1.2.0",
          "state": {
            "_view_name": "LayoutView",
            "grid_template_rows": null,
            "right": null,
            "justify_content": null,
            "_view_module": "@jupyter-widgets/base",
            "overflow": null,
            "_model_module_version": "1.2.0",
            "_view_count": null,
            "flex_flow": null,
            "width": null,
            "min_width": null,
            "border": null,
            "align_items": null,
            "bottom": null,
            "_model_module": "@jupyter-widgets/base",
            "top": null,
            "grid_column": null,
            "overflow_y": null,
            "overflow_x": null,
            "grid_auto_flow": null,
            "grid_area": null,
            "grid_template_columns": null,
            "flex": null,
            "_model_name": "LayoutModel",
            "justify_items": null,
            "grid_row": null,
            "max_height": null,
            "align_content": null,
            "visibility": null,
            "align_self": null,
            "height": null,
            "min_height": null,
            "padding": null,
            "grid_auto_rows": null,
            "grid_gap": null,
            "max_width": null,
            "order": null,
            "_view_module_version": "1.2.0",
            "grid_template_areas": null,
            "object_position": null,
            "object_fit": null,
            "grid_auto_columns": null,
            "margin": null,
            "display": null,
            "left": null
          }
        },
        "d0429a40e608415092b31633055d6c4e": {
          "model_module": "@jupyter-widgets/controls",
          "model_name": "ProgressStyleModel",
          "model_module_version": "1.5.0",
          "state": {
            "_view_name": "StyleView",
            "_model_name": "ProgressStyleModel",
            "description_width": "",
            "_view_module": "@jupyter-widgets/base",
            "_model_module_version": "1.5.0",
            "_view_count": null,
            "_view_module_version": "1.2.0",
            "bar_color": null,
            "_model_module": "@jupyter-widgets/controls"
          }
        },
        "762f2aaf99f048a68a94e67050f8dddd": {
          "model_module": "@jupyter-widgets/base",
          "model_name": "LayoutModel",
          "model_module_version": "1.2.0",
          "state": {
            "_view_name": "LayoutView",
            "grid_template_rows": null,
            "right": null,
            "justify_content": null,
            "_view_module": "@jupyter-widgets/base",
            "overflow": null,
            "_model_module_version": "1.2.0",
            "_view_count": null,
            "flex_flow": null,
            "width": null,
            "min_width": null,
            "border": null,
            "align_items": null,
            "bottom": null,
            "_model_module": "@jupyter-widgets/base",
            "top": null,
            "grid_column": null,
            "overflow_y": null,
            "overflow_x": null,
            "grid_auto_flow": null,
            "grid_area": null,
            "grid_template_columns": null,
            "flex": null,
            "_model_name": "LayoutModel",
            "justify_items": null,
            "grid_row": null,
            "max_height": null,
            "align_content": null,
            "visibility": null,
            "align_self": null,
            "height": null,
            "min_height": null,
            "padding": null,
            "grid_auto_rows": null,
            "grid_gap": null,
            "max_width": null,
            "order": null,
            "_view_module_version": "1.2.0",
            "grid_template_areas": null,
            "object_position": null,
            "object_fit": null,
            "grid_auto_columns": null,
            "margin": null,
            "display": null,
            "left": null
          }
        },
        "121e55940abe4041bc8abb8bea9855a5": {
          "model_module": "@jupyter-widgets/controls",
          "model_name": "DescriptionStyleModel",
          "model_module_version": "1.5.0",
          "state": {
            "_view_name": "StyleView",
            "_model_name": "DescriptionStyleModel",
            "description_width": "",
            "_view_module": "@jupyter-widgets/base",
            "_model_module_version": "1.5.0",
            "_view_count": null,
            "_view_module_version": "1.2.0",
            "_model_module": "@jupyter-widgets/controls"
          }
        },
        "f1262b53999e49f4ab75324c26b9b2e3": {
          "model_module": "@jupyter-widgets/base",
          "model_name": "LayoutModel",
          "model_module_version": "1.2.0",
          "state": {
            "_view_name": "LayoutView",
            "grid_template_rows": null,
            "right": null,
            "justify_content": null,
            "_view_module": "@jupyter-widgets/base",
            "overflow": null,
            "_model_module_version": "1.2.0",
            "_view_count": null,
            "flex_flow": null,
            "width": null,
            "min_width": null,
            "border": null,
            "align_items": null,
            "bottom": null,
            "_model_module": "@jupyter-widgets/base",
            "top": null,
            "grid_column": null,
            "overflow_y": null,
            "overflow_x": null,
            "grid_auto_flow": null,
            "grid_area": null,
            "grid_template_columns": null,
            "flex": null,
            "_model_name": "LayoutModel",
            "justify_items": null,
            "grid_row": null,
            "max_height": null,
            "align_content": null,
            "visibility": null,
            "align_self": null,
            "height": null,
            "min_height": null,
            "padding": null,
            "grid_auto_rows": null,
            "grid_gap": null,
            "max_width": null,
            "order": null,
            "_view_module_version": "1.2.0",
            "grid_template_areas": null,
            "object_position": null,
            "object_fit": null,
            "grid_auto_columns": null,
            "margin": null,
            "display": null,
            "left": null
          }
        },
        "c2cd598d9778427dbc00829cad7d9829": {
          "model_module": "@jupyter-widgets/controls",
          "model_name": "HBoxModel",
          "model_module_version": "1.5.0",
          "state": {
            "_view_name": "HBoxView",
            "_dom_classes": [],
            "_model_name": "HBoxModel",
            "_view_module": "@jupyter-widgets/controls",
            "_model_module_version": "1.5.0",
            "_view_count": null,
            "_view_module_version": "1.5.0",
            "box_style": "",
            "layout": "IPY_MODEL_8d43faf8d8384b9a828f7845e6939df1",
            "_model_module": "@jupyter-widgets/controls",
            "children": [
              "IPY_MODEL_266b615fec5b4f2b9a92ca79ac46a70c",
              "IPY_MODEL_f3567261b86a4800bf59f57c816db775",
              "IPY_MODEL_3d2b36fd02de4e1eab2176c0090d4fac"
            ]
          }
        },
        "8d43faf8d8384b9a828f7845e6939df1": {
          "model_module": "@jupyter-widgets/base",
          "model_name": "LayoutModel",
          "model_module_version": "1.2.0",
          "state": {
            "_view_name": "LayoutView",
            "grid_template_rows": null,
            "right": null,
            "justify_content": null,
            "_view_module": "@jupyter-widgets/base",
            "overflow": null,
            "_model_module_version": "1.2.0",
            "_view_count": null,
            "flex_flow": null,
            "width": null,
            "min_width": null,
            "border": null,
            "align_items": null,
            "bottom": null,
            "_model_module": "@jupyter-widgets/base",
            "top": null,
            "grid_column": null,
            "overflow_y": null,
            "overflow_x": null,
            "grid_auto_flow": null,
            "grid_area": null,
            "grid_template_columns": null,
            "flex": null,
            "_model_name": "LayoutModel",
            "justify_items": null,
            "grid_row": null,
            "max_height": null,
            "align_content": null,
            "visibility": null,
            "align_self": null,
            "height": null,
            "min_height": null,
            "padding": null,
            "grid_auto_rows": null,
            "grid_gap": null,
            "max_width": null,
            "order": null,
            "_view_module_version": "1.2.0",
            "grid_template_areas": null,
            "object_position": null,
            "object_fit": null,
            "grid_auto_columns": null,
            "margin": null,
            "display": null,
            "left": null
          }
        },
        "266b615fec5b4f2b9a92ca79ac46a70c": {
          "model_module": "@jupyter-widgets/controls",
          "model_name": "HTMLModel",
          "model_module_version": "1.5.0",
          "state": {
            "_view_name": "HTMLView",
            "style": "IPY_MODEL_16a0ed1a18f0468dba5e967da3862982",
            "_dom_classes": [],
            "description": "",
            "_model_name": "HTMLModel",
            "placeholder": "​",
            "_view_module": "@jupyter-widgets/controls",
            "_model_module_version": "1.5.0",
            "value": "100%",
            "_view_count": null,
            "_view_module_version": "1.5.0",
            "description_tooltip": null,
            "_model_module": "@jupyter-widgets/controls",
            "layout": "IPY_MODEL_c1b6465f2d074370ba5ad9732775faeb"
          }
        },
        "f3567261b86a4800bf59f57c816db775": {
          "model_module": "@jupyter-widgets/controls",
          "model_name": "FloatProgressModel",
          "model_module_version": "1.5.0",
          "state": {
            "_view_name": "ProgressView",
            "style": "IPY_MODEL_322aa9f2d8b5476b992f0a6c15973a55",
            "_dom_classes": [],
            "description": "",
            "_model_name": "FloatProgressModel",
            "bar_style": "success",
            "max": 29,
            "_view_module": "@jupyter-widgets/controls",
            "_model_module_version": "1.5.0",
            "value": 29,
            "_view_count": null,
            "_view_module_version": "1.5.0",
            "orientation": "horizontal",
            "min": 0,
            "description_tooltip": null,
            "_model_module": "@jupyter-widgets/controls",
            "layout": "IPY_MODEL_90ea2a047dac479e8f8e43ed1730f1ee"
          }
        },
        "3d2b36fd02de4e1eab2176c0090d4fac": {
          "model_module": "@jupyter-widgets/controls",
          "model_name": "HTMLModel",
          "model_module_version": "1.5.0",
          "state": {
            "_view_name": "HTMLView",
            "style": "IPY_MODEL_01eb11cc7db549e3bd3b8d3ec1203bb0",
            "_dom_classes": [],
            "description": "",
            "_model_name": "HTMLModel",
            "placeholder": "​",
            "_view_module": "@jupyter-widgets/controls",
            "_model_module_version": "1.5.0",
            "value": " 29/29 [20:41&lt;00:00, 43.19s/it]",
            "_view_count": null,
            "_view_module_version": "1.5.0",
            "description_tooltip": null,
            "_model_module": "@jupyter-widgets/controls",
            "layout": "IPY_MODEL_533e4b61408d455bac9f573d922069a0"
          }
        },
        "16a0ed1a18f0468dba5e967da3862982": {
          "model_module": "@jupyter-widgets/controls",
          "model_name": "DescriptionStyleModel",
          "model_module_version": "1.5.0",
          "state": {
            "_view_name": "StyleView",
            "_model_name": "DescriptionStyleModel",
            "description_width": "",
            "_view_module": "@jupyter-widgets/base",
            "_model_module_version": "1.5.0",
            "_view_count": null,
            "_view_module_version": "1.2.0",
            "_model_module": "@jupyter-widgets/controls"
          }
        },
        "c1b6465f2d074370ba5ad9732775faeb": {
          "model_module": "@jupyter-widgets/base",
          "model_name": "LayoutModel",
          "model_module_version": "1.2.0",
          "state": {
            "_view_name": "LayoutView",
            "grid_template_rows": null,
            "right": null,
            "justify_content": null,
            "_view_module": "@jupyter-widgets/base",
            "overflow": null,
            "_model_module_version": "1.2.0",
            "_view_count": null,
            "flex_flow": null,
            "width": null,
            "min_width": null,
            "border": null,
            "align_items": null,
            "bottom": null,
            "_model_module": "@jupyter-widgets/base",
            "top": null,
            "grid_column": null,
            "overflow_y": null,
            "overflow_x": null,
            "grid_auto_flow": null,
            "grid_area": null,
            "grid_template_columns": null,
            "flex": null,
            "_model_name": "LayoutModel",
            "justify_items": null,
            "grid_row": null,
            "max_height": null,
            "align_content": null,
            "visibility": null,
            "align_self": null,
            "height": null,
            "min_height": null,
            "padding": null,
            "grid_auto_rows": null,
            "grid_gap": null,
            "max_width": null,
            "order": null,
            "_view_module_version": "1.2.0",
            "grid_template_areas": null,
            "object_position": null,
            "object_fit": null,
            "grid_auto_columns": null,
            "margin": null,
            "display": null,
            "left": null
          }
        },
        "322aa9f2d8b5476b992f0a6c15973a55": {
          "model_module": "@jupyter-widgets/controls",
          "model_name": "ProgressStyleModel",
          "model_module_version": "1.5.0",
          "state": {
            "_view_name": "StyleView",
            "_model_name": "ProgressStyleModel",
            "description_width": "",
            "_view_module": "@jupyter-widgets/base",
            "_model_module_version": "1.5.0",
            "_view_count": null,
            "_view_module_version": "1.2.0",
            "bar_color": null,
            "_model_module": "@jupyter-widgets/controls"
          }
        },
        "90ea2a047dac479e8f8e43ed1730f1ee": {
          "model_module": "@jupyter-widgets/base",
          "model_name": "LayoutModel",
          "model_module_version": "1.2.0",
          "state": {
            "_view_name": "LayoutView",
            "grid_template_rows": null,
            "right": null,
            "justify_content": null,
            "_view_module": "@jupyter-widgets/base",
            "overflow": null,
            "_model_module_version": "1.2.0",
            "_view_count": null,
            "flex_flow": null,
            "width": null,
            "min_width": null,
            "border": null,
            "align_items": null,
            "bottom": null,
            "_model_module": "@jupyter-widgets/base",
            "top": null,
            "grid_column": null,
            "overflow_y": null,
            "overflow_x": null,
            "grid_auto_flow": null,
            "grid_area": null,
            "grid_template_columns": null,
            "flex": null,
            "_model_name": "LayoutModel",
            "justify_items": null,
            "grid_row": null,
            "max_height": null,
            "align_content": null,
            "visibility": null,
            "align_self": null,
            "height": null,
            "min_height": null,
            "padding": null,
            "grid_auto_rows": null,
            "grid_gap": null,
            "max_width": null,
            "order": null,
            "_view_module_version": "1.2.0",
            "grid_template_areas": null,
            "object_position": null,
            "object_fit": null,
            "grid_auto_columns": null,
            "margin": null,
            "display": null,
            "left": null
          }
        },
        "01eb11cc7db549e3bd3b8d3ec1203bb0": {
          "model_module": "@jupyter-widgets/controls",
          "model_name": "DescriptionStyleModel",
          "model_module_version": "1.5.0",
          "state": {
            "_view_name": "StyleView",
            "_model_name": "DescriptionStyleModel",
            "description_width": "",
            "_view_module": "@jupyter-widgets/base",
            "_model_module_version": "1.5.0",
            "_view_count": null,
            "_view_module_version": "1.2.0",
            "_model_module": "@jupyter-widgets/controls"
          }
        },
        "533e4b61408d455bac9f573d922069a0": {
          "model_module": "@jupyter-widgets/base",
          "model_name": "LayoutModel",
          "model_module_version": "1.2.0",
          "state": {
            "_view_name": "LayoutView",
            "grid_template_rows": null,
            "right": null,
            "justify_content": null,
            "_view_module": "@jupyter-widgets/base",
            "overflow": null,
            "_model_module_version": "1.2.0",
            "_view_count": null,
            "flex_flow": null,
            "width": null,
            "min_width": null,
            "border": null,
            "align_items": null,
            "bottom": null,
            "_model_module": "@jupyter-widgets/base",
            "top": null,
            "grid_column": null,
            "overflow_y": null,
            "overflow_x": null,
            "grid_auto_flow": null,
            "grid_area": null,
            "grid_template_columns": null,
            "flex": null,
            "_model_name": "LayoutModel",
            "justify_items": null,
            "grid_row": null,
            "max_height": null,
            "align_content": null,
            "visibility": null,
            "align_self": null,
            "height": null,
            "min_height": null,
            "padding": null,
            "grid_auto_rows": null,
            "grid_gap": null,
            "max_width": null,
            "order": null,
            "_view_module_version": "1.2.0",
            "grid_template_areas": null,
            "object_position": null,
            "object_fit": null,
            "grid_auto_columns": null,
            "margin": null,
            "display": null,
            "left": null
          }
        }
      }
    }
  },
  "cells": [
    {
      "cell_type": "markdown",
      "metadata": {
        "id": "view-in-github",
        "colab_type": "text"
      },
      "source": [
        "<a href=\"https://colab.research.google.com/github/PJL-Emily/edamame/blob/main/GeneticAlgoVal.ipynb\" target=\"_parent\"><img src=\"https://colab.research.google.com/assets/colab-badge.svg\" alt=\"Open In Colab\"/></a>"
      ]
    },
    {
      "cell_type": "code",
      "metadata": {
        "colab": {
          "base_uri": "https://localhost:8080/"
        },
        "id": "RhKfrABLESsR",
        "outputId": "af1d33b6-29ff-48e9-d758-743191fa439b"
      },
      "source": [
        "from google.colab import drive\n",
        "drive.mount(\"/content/drive\", force_remount=True)"
      ],
      "execution_count": null,
      "outputs": [
        {
          "output_type": "stream",
          "name": "stdout",
          "text": [
            "Mounted at /content/drive\n"
          ]
        }
      ]
    },
    {
      "cell_type": "code",
      "metadata": {
        "colab": {
          "base_uri": "https://localhost:8080/"
        },
        "id": "goZrr1kfEZ2d",
        "outputId": "03673306-274a-4299-fbfb-b23d8af0f84b"
      },
      "source": [
        "%cd /content/drive/Shareddrives/weilao_research/毛豆"
      ],
      "execution_count": null,
      "outputs": [
        {
          "output_type": "stream",
          "name": "stdout",
          "text": [
            "/content/drive/Shareddrives/weilao_research/毛豆\n"
          ]
        }
      ]
    },
    {
      "cell_type": "markdown",
      "metadata": {
        "id": "RBuhDL7Vr9Fg"
      },
      "source": [
        "## Import Libraries and Data Sets"
      ]
    },
    {
      "cell_type": "code",
      "metadata": {
        "id": "ZtrTExs3HibV"
      },
      "source": [
        "import numpy as np\n",
        "import pandas as pd\n",
        "import random\n",
        "from tqdm.auto import tqdm\n",
        "import matplotlib.pyplot as plt\n",
        "from datetime import datetime, timedelta"
      ],
      "execution_count": null,
      "outputs": []
    },
    {
      "cell_type": "code",
      "metadata": {
        "id": "3v8zMwNkMjaF"
      },
      "source": [
        "def str2date(s):\n",
        "  m = s[0: s.find('/')]\n",
        "  if (len(m) < 2):\n",
        "    m = '0'+m\n",
        "  s = s[s.find('/')+1: ]\n",
        "  d = s[0: s.find('/')]\n",
        "  if (len(d) < 2):\n",
        "    d = '0'+d\n",
        "  y = s[s.find('/')+1: ]\n",
        "  return y + '/' + m + '/' + d"
      ],
      "execution_count": null,
      "outputs": []
    },
    {
      "cell_type": "code",
      "metadata": {
        "id": "THDolDqVseWB"
      },
      "source": [
        "def hour2date(s):\n",
        "  s = s[0: s.find(' ')]\n",
        "  if (s.find('/') != 4):\n",
        "    # print(s)\n",
        "    # return s\n",
        "    s = str2date(s)\n",
        "    s = '20'+s\n",
        "  # add 0\n",
        "  y = s[0: s.find('/')]\n",
        "  s = s[s.find('/')+1: ]\n",
        "  m = s[0: s.find('/')]\n",
        "  if (len(m) < 2):\n",
        "    m = '0'+m\n",
        "  d = s[s.find('/')+1: ]\n",
        "  if (len(d) < 2):\n",
        "    d = '0'+d\n",
        "  date =  y + '/' + m + '/' + d\n",
        "  # return date\n",
        "  return datetime.strptime(date, '%Y/%m/%d').date()"
      ],
      "execution_count": null,
      "outputs": []
    },
    {
      "cell_type": "code",
      "metadata": {
        "colab": {
          "base_uri": "https://localhost:8080/",
          "height": 424
        },
        "id": "rxOo6S8UY3v4",
        "outputId": "76509a7c-df8f-4cc6-a81e-5b2a445c8059"
      },
      "source": [
        "# read the data: AirTemp\n",
        "hourlyAirTemp = pd.read_csv('高改場逐時氣溫.csv')\n",
        "hourlyAirTemp = hourlyAirTemp.rename(columns={' AirTemp': 'AirTemp'})\n",
        "hourlyAirTemp['Date'] = hourlyAirTemp['DateTime'].apply(lambda s: hour2date(s))\n",
        "dates = np.array(hourlyAirTemp['Date'])\n",
        "airTemp = np.array(hourlyAirTemp['AirTemp'])\n",
        "print('min =', np.array(hourlyAirTemp['AirTemp']).min(), ', max =', np.array(hourlyAirTemp['AirTemp']).max())\n",
        "plt.hist(hourlyAirTemp['AirTemp'])"
      ],
      "execution_count": null,
      "outputs": [
        {
          "output_type": "stream",
          "name": "stderr",
          "text": [
            "/usr/local/lib/python3.7/dist-packages/IPython/core/interactiveshell.py:2718: DtypeWarning: Columns (2,3,4) have mixed types.Specify dtype option on import or set low_memory=False.\n",
            "  interactivity=interactivity, compiler=compiler, result=result)\n"
          ]
        },
        {
          "output_type": "stream",
          "name": "stdout",
          "text": [
            "min = 5.6 , max = 37.4\n"
          ]
        },
        {
          "output_type": "execute_result",
          "data": {
            "text/plain": [
              "(array([   37.,   220.,  1726.,  4475.,  6197., 10344., 16899.,  9238.,\n",
              "         4466.,   480.]),\n",
              " array([ 5.6 ,  8.78, 11.96, 15.14, 18.32, 21.5 , 24.68, 27.86, 31.04,\n",
              "        34.22, 37.4 ]),\n",
              " <a list of 10 Patch objects>)"
            ]
          },
          "metadata": {},
          "execution_count": 6
        },
        {
          "output_type": "display_data",
          "data": {
            "image/png": "[encoded data removed]",
            "text/plain": [
              "<Figure size 432x288 with 1 Axes>"
            ]
          },
          "metadata": {
            "needs_background": "light"
          }
        }
      ]
    },
    {
      "cell_type": "code",
      "metadata": {
        "id": "tpDvolCzEnOn"
      },
      "source": [
        "# df = pd.DataFrame(dates, columns=[\"date\"])\n",
        "# df[\"temp\"] = airTemp\n",
        "# display(df)\n",
        "# for i in range(len(dates)):\n",
        "  # if (df[\"date\"][i] >= datetime(2020, 4, 29).date() and df[\"date\"][i] <= datetime(2020, 10, 5).date()):\n",
        "  #   print(df[\"date\"][i], df[\"temp\"][i])\n",
        "  # if ()"
      ],
      "execution_count": null,
      "outputs": []
    },
    {
      "cell_type": "code",
      "metadata": {
        "id": "91g6VTqTKZhX",
        "colab": {
          "base_uri": "https://localhost:8080/"
        },
        "outputId": "a57a820e-398f-45a0-87cb-903a5d9fad08"
      },
      "source": [
        "# read the data: GrowthSamples\n",
        "growthSamples = pd.read_csv('毛豆生長樣本.csv')\n",
        "growthSamples['定植日'] = growthSamples['定植日'].apply(lambda s: datetime.strptime(str2date(s), '%Y/%m/%d').date())\n",
        "growthSamples['開花日'] = growthSamples['開花日'].apply(lambda s: datetime.strptime(str2date(s), '%Y/%m/%d').date())\n",
        "growthSamples['採收日'] = growthSamples['採收日'].apply(lambda s: datetime.strptime(str2date(s), '%Y/%m/%d').date())\n",
        "# growthSamples = growthSamples[['定植日', '開花日', '採收日']]\n",
        "# growthSamples = growthSamples.rename(columns={'定植日': 'plant_date', '開花日': 'bloom_date', '採收日': 'harvest_date'})\n",
        "# display(growthSamples)\n",
        "plantDates = np.array(growthSamples['定植日'])\n",
        "bloomDates = np.array(growthSamples['開花日'])\n",
        "harvestDates = np.array(growthSamples['採收日'])\n",
        "# print(plant_date, harvest_date)\n",
        "for i in range(plantDates.size):\n",
        "  if (bloomDates[i] == datetime(2020, 3, 24).date()):\n",
        "    plantDates = np.delete(plantDates, i)\n",
        "    bloomDates = np.delete(bloomDates, i)\n",
        "    harvestDates = np.delete(harvestDates, i)\n",
        "    print(plantDates.size, bloomDates.size, harvestDates.size)\n",
        "    break\n",
        "for i in range(plantDates.size):\n",
        "  if (bloomDates[i] == datetime(2021, 3, 15).date()):\n",
        "    plantDates = np.delete(plantDates, i)\n",
        "    bloomDates = np.delete(bloomDates, i)\n",
        "    harvestDates = np.delete(harvestDates, i)\n",
        "    print(plantDates.size, bloomDates.size, harvestDates.size)\n",
        "    break"
      ],
      "execution_count": null,
      "outputs": [
        {
          "output_type": "stream",
          "name": "stdout",
          "text": [
            "24 24 24\n",
            "23 23 23\n"
          ]
        }
      ]
    },
    {
      "cell_type": "markdown",
      "metadata": {
        "id": "PPXS3-bjsTOD"
      },
      "source": [
        "## Functions for Genetic Algorithm"
      ]
    },
    {
      "cell_type": "code",
      "metadata": {
        "id": "K4FuZTKIaZiZ"
      },
      "source": [
        "# const parameters\n",
        "# WARNING: NEVER change their values\n",
        "GENE_SIZE = 4\n",
        "LOW_TEMP = airTemp.min()\n",
        "UP_TEMP = airTemp.max()"
      ],
      "execution_count": null,
      "outputs": []
    },
    {
      "cell_type": "code",
      "metadata": {
        "id": "8JCl73jaJsHW"
      },
      "source": [
        "def generate_chromosome(gen_size):\n",
        "  chromosomes = []\n",
        "  for i in range(gen_size):\n",
        "    chromo = []\n",
        "    for j in range(GENE_SIZE):\n",
        "      chromo.append(random.uniform(LOW_TEMP, UP_TEMP))\n",
        "    chromo.sort()\n",
        "    chromosomes.append(chromo)\n",
        "  return chromosomes"
      ],
      "execution_count": null,
      "outputs": []
    },
    {
      "cell_type": "code",
      "metadata": {
        "id": "8XnQRiv-HSx7"
      },
      "source": [
        "def computeCumuGrowth(chromo, DATE_SET, mute=True): # DATE_SET = [plantDates, harvestDates]\n",
        "  CGs = []\n",
        "  # each chromo is a set of temp = [t1, t2, t3, t4]\n",
        "  for i in range(DATE_SET[0].size): # compute cumu_growth for each sample\n",
        "    cumuGrowth = 0\n",
        "    for j in range(airTemp.size): # compute cumu_growth of every hour\n",
        "      if (dates[j] >= DATE_SET[0][i] and dates[j] <= DATE_SET[1][i]):\n",
        "        growth = 0\n",
        "        if airTemp[j] > chromo[0] and airTemp[j] < chromo[3]:\n",
        "          if airTemp[j] < chromo[1]:\n",
        "            growth = (airTemp[j] - chromo[0]) / (chromo[1] - chromo[0])\n",
        "          elif airTemp[j] > chromo[2]:\n",
        "            growth = (chromo[3] - airTemp[j]) / (chromo[3] - chromo[2])\n",
        "          else:\n",
        "            growth = 1\n",
        "        cumuGrowth += growth\n",
        "    CGs.append(cumuGrowth)\n",
        "  if not mute:\n",
        "    print(CGs)\n",
        "  return CGs"
      ],
      "execution_count": null,
      "outputs": []
    },
    {
      "cell_type": "code",
      "metadata": {
        "id": "NkggzPymJhjk"
      },
      "source": [
        "def fitness(chromo, DATE_SET):\n",
        "  cg_list = computeCumuGrowth(chromo, DATE_SET)\n",
        "  if (min(cg_list) == 0):\n",
        "    return 0 # it's impossible that cumu_growth=0 in any sample\n",
        "  fitness = np.mean(cg_list) / np.std(cg_list, ddof=1)\n",
        "  return fitness"
      ],
      "execution_count": null,
      "outputs": []
    },
    {
      "cell_type": "code",
      "metadata": {
        "id": "bMIKOEz2JPHp"
      },
      "source": [
        "def genetic_algorithm(training_set, generation_size=100, crossover_rate=0.85, mutation_rate=0.1, generation_limit=30, mute=False, plot=True): # fitness_limit: unspecified\n",
        "  best_fit = 0\n",
        "  best_chromo = []\n",
        "  chromo_rec = []\n",
        "  records = []\n",
        "  avg_rec = []\n",
        "\n",
        "  # Generate the initial population (generation_size, 4)\n",
        "  chromosomes = generate_chromosome(generation_size)\n",
        "\n",
        "  # while (!converge): # converge: no significant difference between the fitness of parents and that of children \n",
        "  for gen_cnt in tqdm(range(generation_limit-1)): # Timeout method\n",
        "    chromo_rec.append([])\n",
        "    # Compute fitness\n",
        "    fit_of_gen = []\n",
        "    for c in chromosomes:\n",
        "      chromo_rec[gen_cnt].append(c)\n",
        "      fit = fitness(c, training_set)\n",
        "      fit_of_gen.append(fit)\n",
        "      if fit > best_fit:\n",
        "        best_fit = fit\n",
        "        best_chromo = c\n",
        "    records.append(max(fit_of_gen))\n",
        "    avg_rec.append(sum(fit_of_gen)/len(fit_of_gen))\n",
        "    \n",
        "    # Selection and Crossover\n",
        "    # softmax\n",
        "    prob_dist = np.exp(fit_of_gen) / np.sum(np.exp(fit_of_gen))\n",
        "    for i in range(len(chromosomes)):\n",
        "      # decide the operation type (crossover / replicate) on chromo[i] \n",
        "      if random.random() < crossover_rate:\n",
        "        another_parent = np.random.choice(generation_size, 1, p=prob_dist)[0]\n",
        "        while (i == another_parent):\n",
        "          another_parent = np.random.choice(generation_size, 1, p=prob_dist)[0]\n",
        "        # crossover\n",
        "        chromosomes[i] = list(np.array(chromosomes[i]) * 0.5 + np.array(chromosomes[another_parent]) * 0.5)\n",
        "    \n",
        "    # Mutation\n",
        "    for c in chromosomes:\n",
        "      for i in range(GENE_SIZE):\n",
        "        if random.random() < mutation_rate:\n",
        "          if (i == 0):\n",
        "            c[i] = random.uniform(LOW_TEMP, c[i+1])\n",
        "          elif (i == GENE_SIZE-1):\n",
        "            c[i] = random.uniform(c[i-1], UP_TEMP)\n",
        "          else:\n",
        "            c[i] = random.uniform(c[i-1], c[i+1])\n",
        "\n",
        "  # Compute fitness of the last generation\n",
        "  fit_of_gen = []\n",
        "  last_best_fit = 0\n",
        "  last_best_chromo = []\n",
        "  chromo_rec.append([])\n",
        "  for c in chromosomes:\n",
        "    chromo_rec[generation_limit-1].append(c)\n",
        "    fit = fitness(c, training_set)\n",
        "    fit_of_gen.append(fit)\n",
        "    if fit > last_best_fit:\n",
        "      last_best_fit = fit\n",
        "      last_best_chromo = c\n",
        "    if fit > best_fit:\n",
        "      best_fit = fit\n",
        "      best_chromo = c\n",
        "  records.append(last_best_fit)\n",
        "  avg_rec.append(sum(fit_of_gen)/len(fit_of_gen))\n",
        "\n",
        "  if (not mute):\n",
        "    print('Global Max fitness:', round(best_fit, 3), best_chromo)\n",
        "    print('Last Max fitness:', round(last_best_fit, 3), last_best_chromo)\n",
        "  if plot:\n",
        "    # Plot the fitness curve\n",
        "    plt.plot(range(generation_limit), records, label='local maximum')\n",
        "    plt.plot(range(generation_limit), avg_rec, label='average')\n",
        "    plt.legend()\n",
        "    plt.title('Fitness of each generation')\n",
        "  \n",
        "  return best_chromo"
      ],
      "execution_count": null,
      "outputs": []
    },
    {
      "cell_type": "code",
      "metadata": {
        "id": "n7q7fHEbyeAl"
      },
      "source": [
        "def predictHarvestDay(chromo, startDay, growThresh, mute=True): # Depending on input, startDay might be plantDay or bloomDay\n",
        "  cumuGrowth = 0\n",
        "  currentDay = startDay\n",
        "  while (cumuGrowth < growThresh):\n",
        "    for j in range(airTemp.size): # compute cumu_growth of every hour\n",
        "      if (dates[j] == currentDay):\n",
        "        if airTemp[j] > chromo[0] and airTemp[j] < chromo[3]:\n",
        "          if airTemp[j] < chromo[1]:\n",
        "            cumuGrowth += (airTemp[j] - chromo[0]) / (chromo[1] - chromo[0])\n",
        "          elif airTemp[j] > chromo[2]:\n",
        "            cumuGrowth += (chromo[3] - airTemp[j]) / (chromo[3] - chromo[2])\n",
        "          else:\n",
        "            cumuGrowth += 1\n",
        "    currentDay += timedelta(days=1)\n",
        "    if (not mute):\n",
        "      print(currentDay, \":\", cumuGrowth)\n",
        "  return currentDay"
      ],
      "execution_count": null,
      "outputs": []
    },
    {
      "cell_type": "markdown",
      "metadata": {
        "id": "g1vVFQT7EGoB"
      },
      "source": [
        "## Functions for Validation"
      ]
    },
    {
      "cell_type": "code",
      "metadata": {
        "id": "6ZQc_euF-41O"
      },
      "source": [
        "def splitDataset(Dates1, Dates2, TRAIN_SIZE):\n",
        "  trainSet = [[], []]\n",
        "  testSet = [[], []]\n",
        "  dataIdx = range(len(Dates1))\n",
        "  trainIdx = np.random.choice(dataIdx, TRAIN_SIZE, replace=False)\n",
        "  for i in dataIdx:\n",
        "    if i in trainIdx:\n",
        "      trainSet[0].append(Dates1[i])\n",
        "      trainSet[1].append(Dates2[i])\n",
        "    else:\n",
        "      testSet[0].append(Dates1[i])\n",
        "      testSet[1].append(Dates2[i])\n",
        "  trainSet[0] = np.array(trainSet[0])\n",
        "  trainSet[1] = np.array(trainSet[1])\n",
        "  testSet[0] = np.array(testSet[0])\n",
        "  testSet[1] = np.array(testSet[1])\n",
        "  return trainSet, testSet"
      ],
      "execution_count": null,
      "outputs": []
    },
    {
      "cell_type": "code",
      "metadata": {
        "id": "ufoLTZSSxQNG"
      },
      "source": [
        "def GAwithTest(TRAIN_SET, TEST_SET, genSize, genLim):\n",
        "  bestChromo = genetic_algorithm(TRAIN_SET, generation_size=genSize, generation_limit=genLim)\n",
        "  CumuGrowths = computeCumuGrowth(bestChromo, TRAIN_SET)\n",
        "  CGthresh = np.median(CumuGrowths)\n",
        "  diff = []\n",
        "  for i in range(len(TEST_SET[0])):\n",
        "    print(TEST_SET[0][i], TEST_SET[1][i], end=\"\")\n",
        "    pred_harv = predictHarvestDay(bestChromo, TEST_SET[0][i], CGthresh)\n",
        "    diff.append(np.abs((pred_harv-TEST_SET[1][i]).days))\n",
        "    print(\" >> pred:\", pred_harv, \"diff:\", diff[i])\n",
        "  print(\"Average diff is\", np.mean(diff), \"days.\")"
      ],
      "execution_count": null,
      "outputs": []
    },
    {
      "cell_type": "code",
      "metadata": {
        "colab": {
          "base_uri": "https://localhost:8080/",
          "height": 171,
          "referenced_widgets": [
            "48765f72634e4a6bad4e55fb8d5cee7e",
            "89c86deb7074440d80b8e66996ed2988",
            "7c4f165004914ccdbc7ca41259e5bdff",
            "9def6e7a18f04845a71e4c0ab32c403b",
            "5e2bbbf701ae450abf514fbdbdd38b09",
            "9d3f8bf152cd43a8a32b8d2aa91eaf74",
            "043db6fa303341bbb7205e666bec0564",
            "ca2c3eacdae2416a9f72eb9775a0fcdd",
            "a374060f86994b2cab34d62ac6c2f449",
            "57a0f620989c4cc5b333190fcfbac717",
            "a569b3a1d2b34222acbc640059f18b12"
          ]
        },
        "id": "SfxQyzSnDETn",
        "outputId": "22bc6fcc-f659-4486-aa54-af2a26b49968"
      },
      "source": [
        "# 定植日到採收日\n",
        "TRAIN_SET, TEST_SET = splitDataset(plantDates, harvestDates, TRAIN_SIZE=20)\n",
        "GAwithTest(TRAIN_SET, TEST_SET, 100, 15)"
      ],
      "execution_count": null,
      "outputs": [
        {
          "output_type": "display_data",
          "data": {
            "application/vnd.jupyter.widget-view+json": {
              "model_id": "48765f72634e4a6bad4e55fb8d5cee7e",
              "version_minor": 0,
              "version_major": 2
            },
            "text/plain": [
              "  0%|          | 0/14 [00:00<?, ?it/s]"
            ]
          },
          "metadata": {}
        },
        {
          "output_type": "stream",
          "name": "stdout",
          "text": [
            "Global Max fitness: 25.642 [6.473718929692502, 23.91378032655078, 28.97393548153728, 32.0472697485515]\n",
            "Last Max fitness: 25.518 [8.295087494767113, 22.93298934128561, 28.614394833344697, 32.01019736643766]\n",
            "2012-02-09 2012-04-26 >> pred: 2012-04-28 diff: 2\n",
            "2013-02-03 2013-04-21 >> pred: 2013-04-20 diff: 1\n",
            "2015-02-14 2015-05-02 >> pred: 2015-05-01 diff: 1\n",
            "2013-09-16 2013-11-27 >> pred: 2013-11-28 diff: 1\n",
            "Average diff is 1.25 days.\n"
          ]
        }
      ]
    },
    {
      "cell_type": "code",
      "metadata": {
        "colab": {
          "base_uri": "https://localhost:8080/",
          "height": 171,
          "referenced_widgets": [
            "1e26a68736f44fa480b92113b49a54ed",
            "63ae57320d09483fba20b0e0c851f45a",
            "25c0b1961e9d4c6b91d99b74601b1013",
            "cece05df106e41618fee540e384d2d19",
            "7de42372a3514ff289eb52985e74b630",
            "a2d9eaa3c5bc4f5ab790d5bd4f85b4fc",
            "176339ef3fd74691a534bacf4a870cf5",
            "e3f462fcc4b147e49b718b2b549649ba",
            "56fbbf7bfd6e45e798fa1c300dd5504d",
            "dd49a88242b54d038145a51a08d7e5ad",
            "e502ae3c2d9540afa280b38d43fbada3"
          ]
        },
        "id": "0SYISSGqPORe",
        "outputId": "0494fca5-10b0-44b9-a54a-37a9a9566302"
      },
      "source": [
        "# 開花日到採收日\n",
        "TRAIN_SET, TEST_SET = splitDataset(bloomDates, harvestDates, TRAIN_SIZE=20)\n",
        "GAwithTest(TRAIN_SET, TEST_SET, 100, 15)"
      ],
      "execution_count": null,
      "outputs": [
        {
          "output_type": "display_data",
          "data": {
            "application/vnd.jupyter.widget-view+json": {
              "model_id": "1e26a68736f44fa480b92113b49a54ed",
              "version_minor": 0,
              "version_major": 2
            },
            "text/plain": [
              "  0%|          | 0/14 [00:00<?, ?it/s]"
            ]
          },
          "metadata": {}
        },
        {
          "output_type": "stream",
          "name": "stdout",
          "text": [
            "Global Max fitness: 9.337 [10.365855801174007, 27.03803641796, 29.11395366398665, 29.912319209278934]\n",
            "Last Max fitness: 8.722 [12.081858887913281, 22.85283210500288, 28.23677025073375, 31.383228918706877]\n",
            "2012-03-10 2012-04-26 >> pred: 2012-04-27 diff: 1\n",
            "2015-03-16 2015-05-02 >> pred: 2015-05-02 diff: 0\n",
            "2013-11-13 2013-12-22 >> pred: 2014-01-10 diff: 19\n",
            "2014-11-02 2014-12-12 >> pred: 2014-12-21 diff: 9\n",
            "Average diff is 7.25 days.\n"
          ]
        }
      ]
    },
    {
      "cell_type": "markdown",
      "metadata": {
        "id": "xm94XcQQoYzv"
      },
      "source": [
        "## Training"
      ]
    },
    {
      "cell_type": "code",
      "metadata": {
        "id": "ae2kjVV5C9c-",
        "colab": {
          "base_uri": "https://localhost:8080/",
          "height": 365,
          "referenced_widgets": [
            "ed441c860f614db1946d683eb8b931e7",
            "0402253a434e49be9d3665ee6d7729f0",
            "e7b86eb179f3400882f79242e3ed4876",
            "442276cf7260420196710d6e5134b338",
            "afd29bc068364a67a497c960b5fcad07",
            "86aa7780ae63493fa7c7be08e0da33e4",
            "16ee56c9e7d24907be47b7f59b084b0e",
            "d0429a40e608415092b31633055d6c4e",
            "762f2aaf99f048a68a94e67050f8dddd",
            "121e55940abe4041bc8abb8bea9855a5",
            "f1262b53999e49f4ab75324c26b9b2e3"
          ]
        },
        "outputId": "a716ea44-2624-44da-e463-3b83a85fb779"
      },
      "source": [
        "# 定植日到採收日\n",
        "TRAIN_SET = [plantDates, harvestDates]\n",
        "genetic_algorithm(TRAIN_SET, generation_size=100, generation_limit=30)"
      ],
      "execution_count": null,
      "outputs": [
        {
          "output_type": "display_data",
          "data": {
            "application/vnd.jupyter.widget-view+json": {
              "model_id": "ed441c860f614db1946d683eb8b931e7",
              "version_minor": 0,
              "version_major": 2
            },
            "text/plain": [
              "  0%|          | 0/29 [00:00<?, ?it/s]"
            ]
          },
          "metadata": {}
        },
        {
          "output_type": "stream",
          "name": "stdout",
          "text": [
            "Global Max fitness: 26.291 [9.160999515197108, 21.260955612972197, 30.448330697280532, 31.01434250407535]\n",
            "Last Max fitness: 25.868 [10.288318210909779, 21.280088362216325, 29.143271038928006, 32.29879516365826]\n"
          ]
        },
        {
          "output_type": "execute_result",
          "data": {
            "text/plain": [
              "[9.160999515197108, 21.260955612972197, 30.448330697280532, 31.01434250407535]"
            ]
          },
          "metadata": {},
          "execution_count": 19
        },
        {
          "output_type": "display_data",
          "data": {
            "image/png": "[encoded data removed]",
            "text/plain": [
              "<Figure size 432x288 with 1 Axes>"
            ]
          },
          "metadata": {
            "needs_background": "light"
          }
        }
      ]
    },
    {
      "cell_type": "code",
      "metadata": {
        "id": "ZsYWkXdLoKUD",
        "colab": {
          "base_uri": "https://localhost:8080/",
          "height": 365,
          "referenced_widgets": [
            "c2cd598d9778427dbc00829cad7d9829",
            "8d43faf8d8384b9a828f7845e6939df1",
            "266b615fec5b4f2b9a92ca79ac46a70c",
            "f3567261b86a4800bf59f57c816db775",
            "3d2b36fd02de4e1eab2176c0090d4fac",
            "16a0ed1a18f0468dba5e967da3862982",
            "c1b6465f2d074370ba5ad9732775faeb",
            "322aa9f2d8b5476b992f0a6c15973a55",
            "90ea2a047dac479e8f8e43ed1730f1ee",
            "01eb11cc7db549e3bd3b8d3ec1203bb0",
            "533e4b61408d455bac9f573d922069a0"
          ]
        },
        "outputId": "86e5bbe3-cac9-4603-c9ce-b346bebdbe14"
      },
      "source": [
        "# 開花日到採收日\n",
        "TRAIN_SET = [bloomDates, harvestDates]\n",
        "genetic_algorithm(TRAIN_SET, generation_size=100, generation_limit=30)"
      ],
      "execution_count": null,
      "outputs": [
        {
          "output_type": "display_data",
          "data": {
            "application/vnd.jupyter.widget-view+json": {
              "model_id": "c2cd598d9778427dbc00829cad7d9829",
              "version_minor": 0,
              "version_major": 2
            },
            "text/plain": [
              "  0%|          | 0/29 [00:00<?, ?it/s]"
            ]
          },
          "metadata": {}
        },
        {
          "output_type": "stream",
          "name": "stdout",
          "text": [
            "Global Max fitness: 10.866 [9.732292730290782, 18.792326034961846, 29.719489914067474, 29.97035712231292]\n",
            "Last Max fitness: 10.68 [9.834175833347139, 18.94827132045128, 27.90221074846812, 30.629635066414075]\n"
          ]
        },
        {
          "output_type": "execute_result",
          "data": {
            "text/plain": [
              "[9.732292730290782, 18.792326034961846, 29.719489914067474, 29.97035712231292]"
            ]
          },
          "metadata": {},
          "execution_count": 20
        },
        {
          "output_type": "display_data",
          "data": {
            "image/png": "[encoded data removed]",
            "text/plain": [
              "<Figure size 432x288 with 1 Axes>"
            ]
          },
          "metadata": {
            "needs_background": "light"
          }
        }
      ]
    },
    {
      "cell_type": "code",
      "metadata": {
        "id": "66MIpSPOoXoV"
      },
      "source": [
        ""
      ],
      "execution_count": null,
      "outputs": []
    }
  ]
}